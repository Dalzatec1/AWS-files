{
 "cells": [
  {
   "cell_type": "code",
   "execution_count": 3,
   "metadata": {},
   "outputs": [
    {
     "data": {
      "application/vnd.jupyter.widget-view+json": {
       "model_id": "",
       "version_major": 2,
       "version_minor": 0
      },
      "text/plain": [
       "FloatProgress(value=0.0, bar_style='info', description='Progress:', layout=Layout(height='25px', width='50%'),…"
      ]
     },
     "metadata": {},
     "output_type": "display_data"
    }
   ],
   "source": [
    "ht=spark.read.csv('s3://proyecto1-grupo8/raw/dataset/Historico/global.csv',inferSchema=True,header=True)\n",
    "na=spark.read.csv('s3://proyecto1-grupo8/raw/dataset/Tendencia_mlo/co2-annmean-mlo_csv.csv',\n",
    "  inferSchema=True,header=True)\n"
   ]
  },
  {
   "cell_type": "code",
   "execution_count": 4,
   "metadata": {},
   "outputs": [
    {
     "data": {
      "application/vnd.jupyter.widget-view+json": {
       "model_id": "",
       "version_major": 2,
       "version_minor": 0
      },
      "text/plain": [
       "FloatProgress(value=0.0, bar_style='info', description='Progress:', layout=Layout(height='25px', width='50%'),…"
      ]
     },
     "metadata": {},
     "output_type": "display_data"
    },
    {
     "name": "stdout",
     "output_type": "stream",
     "text": [
      "+----------+------+-----------+\n",
      "|      Year|  Mean|Uncertainty|\n",
      "+----------+------+-----------+\n",
      "|1959-11-01|315.97|       0.12|\n",
      "|1960-11-01|316.91|       0.12|\n",
      "|1961-11-01|317.64|       0.12|\n",
      "|1962-11-01|318.45|       0.12|\n",
      "|1963-11-01|318.99|       0.12|\n",
      "|1964-11-01|319.62|       0.12|\n",
      "|1965-11-01|320.04|       0.12|\n",
      "|1966-11-01|321.38|       0.12|\n",
      "|1967-11-01|322.16|       0.12|\n",
      "|1968-11-01|323.04|       0.12|\n",
      "|1969-11-01|324.62|       0.12|\n",
      "|1970-11-01|325.68|       0.12|\n",
      "|1971-11-01|326.32|       0.12|\n",
      "|1972-11-01|327.45|       0.12|\n",
      "|1973-11-01|329.68|       0.12|\n",
      "|1974-11-01|330.18|       0.12|\n",
      "|1975-11-01|331.11|       0.12|\n",
      "|1976-11-01|332.04|       0.12|\n",
      "|1977-11-01|333.83|       0.12|\n",
      "|1978-11-01| 335.4|       0.12|\n",
      "+----------+------+-----------+\n",
      "only showing top 20 rows"
     ]
    }
   ],
   "source": [
    "na.show()"
   ]
  },
  {
   "cell_type": "code",
   "execution_count": 7,
   "metadata": {},
   "outputs": [
    {
     "data": {
      "application/vnd.jupyter.widget-view+json": {
       "model_id": "",
       "version_major": 2,
       "version_minor": 0
      },
      "text/plain": [
       "FloatProgress(value=0.0, bar_style='info', description='Progress:', layout=Layout(height='25px', width='50%'),…"
      ]
     },
     "metadata": {},
     "output_type": "display_data"
    }
   ],
   "source": [
    "import pyspark\n",
    "\n",
    "from pyspark.sql import SparkSession\n",
    "\n",
    "from pyspark.sql.functions import *\n"
   ]
  },
  {
   "cell_type": "code",
   "execution_count": 9,
   "metadata": {},
   "outputs": [
    {
     "data": {
      "application/vnd.jupyter.widget-view+json": {
       "model_id": "",
       "version_major": 2,
       "version_minor": 0
      },
      "text/plain": [
       "FloatProgress(value=0.0, bar_style='info', description='Progress:', layout=Layout(height='25px', width='50%'),…"
      ]
     },
     "metadata": {},
     "output_type": "display_data"
    }
   ],
   "source": [
    "split_cols = pyspark.sql.functions.split(na['Year'], '-')"
   ]
  },
  {
   "cell_type": "code",
   "execution_count": 10,
   "metadata": {},
   "outputs": [
    {
     "data": {
      "application/vnd.jupyter.widget-view+json": {
       "model_id": "",
       "version_major": 2,
       "version_minor": 0
      },
      "text/plain": [
       "FloatProgress(value=0.0, bar_style='info', description='Progress:', layout=Layout(height='25px', width='50%'),…"
      ]
     },
     "metadata": {},
     "output_type": "display_data"
    }
   ],
   "source": [
    "t1 = na.withColumn('new_Year', split_cols.getItem(0)) \\\n",
    "    .withColumn('Month', split_cols.getItem(1)) \\\n",
    "    .withColumn('Day', split_cols.getItem(2))\n"
   ]
  },
  {
   "cell_type": "code",
   "execution_count": 11,
   "metadata": {},
   "outputs": [
    {
     "data": {
      "application/vnd.jupyter.widget-view+json": {
       "model_id": "",
       "version_major": 2,
       "version_minor": 0
      },
      "text/plain": [
       "FloatProgress(value=0.0, bar_style='info', description='Progress:', layout=Layout(height='25px', width='50%'),…"
      ]
     },
     "metadata": {},
     "output_type": "display_data"
    },
    {
     "name": "stdout",
     "output_type": "stream",
     "text": [
      "+----------+------+-----------+--------+-----+---+\n",
      "|      Year|  Mean|Uncertainty|new_Year|Month|Day|\n",
      "+----------+------+-----------+--------+-----+---+\n",
      "|1959-11-01|315.97|       0.12|    1959|   11| 01|\n",
      "|1960-11-01|316.91|       0.12|    1960|   11| 01|\n",
      "|1961-11-01|317.64|       0.12|    1961|   11| 01|\n",
      "|1962-11-01|318.45|       0.12|    1962|   11| 01|\n",
      "|1963-11-01|318.99|       0.12|    1963|   11| 01|\n",
      "|1964-11-01|319.62|       0.12|    1964|   11| 01|\n",
      "|1965-11-01|320.04|       0.12|    1965|   11| 01|\n",
      "|1966-11-01|321.38|       0.12|    1966|   11| 01|\n",
      "|1967-11-01|322.16|       0.12|    1967|   11| 01|\n",
      "|1968-11-01|323.04|       0.12|    1968|   11| 01|\n",
      "|1969-11-01|324.62|       0.12|    1969|   11| 01|\n",
      "|1970-11-01|325.68|       0.12|    1970|   11| 01|\n",
      "|1971-11-01|326.32|       0.12|    1971|   11| 01|\n",
      "|1972-11-01|327.45|       0.12|    1972|   11| 01|\n",
      "|1973-11-01|329.68|       0.12|    1973|   11| 01|\n",
      "|1974-11-01|330.18|       0.12|    1974|   11| 01|\n",
      "|1975-11-01|331.11|       0.12|    1975|   11| 01|\n",
      "|1976-11-01|332.04|       0.12|    1976|   11| 01|\n",
      "|1977-11-01|333.83|       0.12|    1977|   11| 01|\n",
      "|1978-11-01| 335.4|       0.12|    1978|   11| 01|\n",
      "+----------+------+-----------+--------+-----+---+\n",
      "only showing top 20 rows"
     ]
    }
   ],
   "source": [
    "t1.show() "
   ]
  },
  {
   "cell_type": "code",
   "execution_count": 12,
   "metadata": {},
   "outputs": [
    {
     "data": {
      "application/vnd.jupyter.widget-view+json": {
       "model_id": "",
       "version_major": 2,
       "version_minor": 0
      },
      "text/plain": [
       "FloatProgress(value=0.0, bar_style='info', description='Progress:', layout=Layout(height='25px', width='50%'),…"
      ]
     },
     "metadata": {},
     "output_type": "display_data"
    },
    {
     "name": "stdout",
     "output_type": "stream",
     "text": [
      "+----+-----+--------+-----------+----------+------+-----------+----------+----+----+-----------+--------+-----+----+\n",
      "|Year|Total|Gas Fuel|Liquid Fuel|Solid Fuel|Cement|Gas Flaring|Per Capita|Year|Mean|Uncertainty|new_Year|Month|Day |\n",
      "+----+-----+--------+-----------+----------+------+-----------+----------+----+----+-----------+--------+-----+----+\n",
      "|1751|3    |0       |0          |3         |0     |0          |null      |null|null|null       |null    |null |null|\n",
      "|1752|3    |0       |0          |3         |0     |0          |null      |null|null|null       |null    |null |null|\n",
      "|1753|3    |0       |0          |3         |0     |0          |null      |null|null|null       |null    |null |null|\n",
      "|1754|3    |0       |0          |3         |0     |0          |null      |null|null|null       |null    |null |null|\n",
      "|1755|3    |0       |0          |3         |0     |0          |null      |null|null|null       |null    |null |null|\n",
      "|1756|3    |0       |0          |3         |0     |0          |null      |null|null|null       |null    |null |null|\n",
      "|1757|3    |0       |0          |3         |0     |0          |null      |null|null|null       |null    |null |null|\n",
      "|1758|3    |0       |0          |3         |0     |0          |null      |null|null|null       |null    |null |null|\n",
      "|1759|3    |0       |0          |3         |0     |0          |null      |null|null|null       |null    |null |null|\n",
      "|1760|3    |0       |0          |3         |0     |0          |null      |null|null|null       |null    |null |null|\n",
      "|1761|3    |0       |0          |3         |0     |0          |null      |null|null|null       |null    |null |null|\n",
      "|1762|3    |0       |0          |3         |0     |0          |null      |null|null|null       |null    |null |null|\n",
      "|1763|3    |0       |0          |3         |0     |0          |null      |null|null|null       |null    |null |null|\n",
      "|1764|3    |0       |0          |3         |0     |0          |null      |null|null|null       |null    |null |null|\n",
      "|1765|3    |0       |0          |3         |0     |0          |null      |null|null|null       |null    |null |null|\n",
      "|1766|3    |0       |0          |3         |0     |0          |null      |null|null|null       |null    |null |null|\n",
      "|1767|3    |0       |0          |3         |0     |0          |null      |null|null|null       |null    |null |null|\n",
      "|1768|3    |0       |0          |3         |0     |0          |null      |null|null|null       |null    |null |null|\n",
      "|1769|3    |0       |0          |3         |0     |0          |null      |null|null|null       |null    |null |null|\n",
      "|1770|3    |0       |0          |3         |0     |0          |null      |null|null|null       |null    |null |null|\n",
      "+----+-----+--------+-----------+----------+------+-----------+----------+----+----+-----------+--------+-----+----+\n",
      "only showing top 20 rows"
     ]
    }
   ],
   "source": [
    "t2 = ht.join(t1, ht.Year == t1.new_Year,\"left\") \\\n",
    "     .show(truncate=False)\n"
   ]
  },
  {
   "cell_type": "code",
   "execution_count": 14,
   "metadata": {},
   "outputs": [
    {
     "data": {
      "application/vnd.jupyter.widget-view+json": {
       "model_id": "",
       "version_major": 2,
       "version_minor": 0
      },
      "text/plain": [
       "FloatProgress(value=0.0, bar_style='info', description='Progress:', layout=Layout(height='25px', width='50%'),…"
      ]
     },
     "metadata": {},
     "output_type": "display_data"
    },
    {
     "name": "stderr",
     "output_type": "stream",
     "text": [
      "An error was encountered:\n",
      "'NoneType' object has no attribute 'coalesce'\n",
      "Traceback (most recent call last):\n",
      "AttributeError: 'NoneType' object has no attribute 'coalesce'\n",
      "\n"
     ]
    }
   ],
   "source": [
    "\n"
   ]
  },
  {
   "cell_type": "code",
   "execution_count": null,
   "metadata": {},
   "outputs": [],
   "source": []
  }
 ],
 "metadata": {
  "kernelspec": {
   "display_name": "PySpark",
   "language": "",
   "name": "pysparkkernel"
  },
  "language_info": {
   "codemirror_mode": {
    "name": "python",
    "version": 3
   },
   "mimetype": "text/x-python",
   "name": "pyspark",
   "pygments_lexer": "python3"
  }
 },
 "nbformat": 4,
 "nbformat_minor": 4
}
